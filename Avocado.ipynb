{
 "cells": [
  {
   "cell_type": "code",
   "execution_count": null,
   "id": "0063bb9f-0325-4132-829e-36cf287fc148",
   "metadata": {},
   "outputs": [],
   "source": [
    "import pandas as pd\n",
    "\n",
    "# Load the dataset\n",
    "df = pd.read_csv(\"avocado.csv\")  # Update the path if needed\n",
    "\n",
    "# Display basic information\n",
    "df.info()\n",
    "\n",
    "# Display the first few rows\n",
    "df.head()"
   ]
  },
  {
   "cell_type": "code",
   "execution_count": null,
   "id": "14254786-9b87-41f7-9ffc-ea3151838b3e",
   "metadata": {},
   "outputs": [],
   "source": [
    "# Rename the 'Unnamed: 0' column to 'Id'\n",
    "df.rename(columns={\"Unnamed: 0\": \"Id\"}, inplace=True)"
   ]
  },
  {
   "cell_type": "code",
   "execution_count": null,
   "id": "e009df67-e250-4469-a105-86fa3aa961ed",
   "metadata": {},
   "outputs": [],
   "source": [
    "df[\"Date\"] = pd.to_datetime(df[\"Date\"])"
   ]
  },
  {
   "cell_type": "code",
   "execution_count": null,
   "id": "fe656d03-0a7f-4d5e-bd58-a0a1804b9247",
   "metadata": {},
   "outputs": [],
   "source": [
    "df.info()"
   ]
  },
  {
   "cell_type": "code",
   "execution_count": null,
   "id": "cadd2a8f-71a3-43d6-9aca-8af8c97bb9aa",
   "metadata": {},
   "outputs": [],
   "source": [
    "print(df.isnull().sum())"
   ]
  },
  {
   "cell_type": "code",
   "execution_count": null,
   "id": "e6b84198-716f-4bc5-b8df-74c846e29a2f",
   "metadata": {},
   "outputs": [],
   "source": [
    "df[\"month\"] = df[\"Date\"].dt.month\n",
    "df[\"week\"] = df[\"Date\"].dt.isocalendar().week\n",
    "df[\"year\"] = df[\"Date\"].dt.year"
   ]
  },
  {
   "cell_type": "code",
   "execution_count": null,
   "id": "853cf23f-83cb-4c1e-bf53-1ce0abbe288f",
   "metadata": {},
   "outputs": [],
   "source": [
    "df.info()"
   ]
  },
  {
   "cell_type": "code",
   "execution_count": null,
   "id": "65352eb5-b248-4c22-acd8-34726bd43126",
   "metadata": {},
   "outputs": [],
   "source": [
    "df[\"type\"] = df[\"type\"].map({\"conventional\": 0, \"organic\": 1})"
   ]
  },
  {
   "cell_type": "code",
   "execution_count": null,
   "id": "da59796c-67ba-468b-90c7-9dac28408140",
   "metadata": {},
   "outputs": [],
   "source": [
    "df.info()"
   ]
  },
  {
   "cell_type": "code",
   "execution_count": null,
   "id": "bf0277cb-39ca-49f7-af7f-ad88f384097e",
   "metadata": {},
   "outputs": [],
   "source": [
    "df = pd.get_dummies(df, columns=[\"region\"], drop_first=True)"
   ]
  },
  {
   "cell_type": "code",
   "execution_count": null,
   "id": "2c70e213-69b1-40f0-90db-f0c374f6601d",
   "metadata": {},
   "outputs": [],
   "source": [
    "df.info()"
   ]
  },
  {
   "cell_type": "code",
   "execution_count": null,
   "id": "36543ac8-84e1-4d90-adf3-87a5d8b3165d",
   "metadata": {},
   "outputs": [],
   "source": [
    "import matplotlib.pyplot as plt\n",
    "\n",
    "plt.figure(figsize=(12, 6))\n",
    "plt.plot(df[\"Date\"], df[\"AveragePrice\"], label=\"Average Price\", color=\"blue\", alpha=0.4)\n",
    "plt.xlabel(\"Date\")\n",
    "plt.ylabel(\"Average Price (USD)\")\n",
    "plt.title(\"Avocado Price Trend Over Time\")\n",
    "plt.legend()\n",
    "plt.grid(True)\n",
    "plt.show()"
   ]
  },
  {
   "cell_type": "code",
   "execution_count": null,
   "id": "9caee3f4-7896-4c5f-8f30-6b1bb519ec85",
   "metadata": {},
   "outputs": [],
   "source": [
    "import matplotlib.pyplot as plt\n",
    "\n",
    "plt.figure(figsize=(12, 6))\n",
    "plt.scatter(df[\"Date\"], df[\"AveragePrice\"], label=\"Average Price\", color=\"blue\", alpha=0.6)\n",
    "plt.xlabel(\"Date\")\n",
    "plt.ylabel(\"Average Price (USD)\")\n",
    "plt.title(\"Avocado Price Trend Over Time\")\n",
    "plt.legend()\n",
    "plt.grid(True)\n",
    "plt.show()"
   ]
  },
  {
   "cell_type": "code",
   "execution_count": null,
   "id": "6d3ad3e7-9c96-44da-a6cc-af175b6dd732",
   "metadata": {},
   "outputs": [],
   "source": [
    "from sklearn.linear_model import LinearRegression\n",
    "from sklearn.model_selection import train_test_split\n",
    "\n",
    "# تعریف ویژگی‌ها (X) و متغیر هدف (y)\n",
    "X = df.drop(columns=[\"Date\", \"AveragePrice\"])  # حذف تاریخ و مقدار هدف\n",
    "y = df[\"AveragePrice\"]  # مقدار قیمت آووکادو\n",
    "\n",
    "# تقسیم داده‌ها به دو بخش: آموزش (80٪) و تست (20٪)\n",
    "X_train, X_test, y_train, y_test = train_test_split(X, y, test_size=0.2, random_state=42)\n",
    "\n",
    "# مقداردهی اولیه مدل رگرسیون خطی\n",
    "lin_reg = LinearRegression()\n",
    "\n",
    "# آموزش مدل\n",
    "lin_reg.fit(X_train, y_train)\n",
    "\n",
    "# پیش‌بینی روی داده‌های تست\n",
    "y_pred = lin_reg.predict(X_test)\n",
    "\n",
    "# نمایش R² score برای ارزیابی مدل\n",
    "print(\"Linear Regression R² Score:\", lin_reg.score(X_test, y_test))"
   ]
  },
  {
   "cell_type": "code",
   "execution_count": null,
   "id": "305b1683-1610-418b-91c3-56892c5c19b9",
   "metadata": {},
   "outputs": [],
   "source": [
    "import pandas as pd\n",
    "\n",
    "# تنظیم ویژگی‌های تاریخ\n",
    "future_dates = pd.date_range(start=\"2025-03-01\", periods=6, freq=\"ME\")\n",
    "future_df = pd.DataFrame({\"Date\": future_dates})\n",
    "future_df[\"month\"] = future_df[\"Date\"].dt.month\n",
    "future_df[\"week\"] = future_df[\"Date\"].dt.isocalendar().week\n",
    "future_df[\"year\"] = future_df[\"Date\"].dt.year\n",
    "\n",
    "# اضافه کردن سایر ویژگی‌ها (با مقادیر میانگین از X_train)\n",
    "for col in X_train.columns:\n",
    "    if col not in future_df.columns:\n",
    "        future_df[col] = X_train[col].mean()\n",
    "\n",
    "# اطمینان از ترتیب صحیح ویژگی‌ها\n",
    "future_X = future_df[X_train.columns]\n",
    "\n",
    "# پیش‌بینی قیمت‌های آینده با Linear Regression\n",
    "future_df[\"PredictedPrice\"] = lin_reg.predict(future_X)\n",
    "\n",
    "# نمایش خروجی\n",
    "print(future_df[[\"Date\", \"PredictedPrice\"]])"
   ]
  },
  {
   "cell_type": "code",
   "execution_count": null,
   "id": "b6ac0bbf-eec7-4406-9fb4-4975d4632657",
   "metadata": {},
   "outputs": [],
   "source": [
    "from sklearn.ensemble import RandomForestRegressor\n",
    "\n",
    "# Initialize model\n",
    "model = RandomForestRegressor(n_estimators=100, random_state=42)\n",
    "\n",
    "# Train the model\n",
    "model.fit(X_train, y_train)"
   ]
  },
  {
   "cell_type": "code",
   "execution_count": null,
   "id": "646827c8-37b4-4266-adc3-4aa96db0885f",
   "metadata": {},
   "outputs": [],
   "source": [
    "from sklearn.metrics import mean_absolute_error, mean_squared_error, r2_score\n",
    "import numpy as np\n",
    "\n",
    "# Predictions on test data\n",
    "y_pred = model.predict(X_test)\n",
    "\n",
    "# Evaluation metrics\n",
    "print(\"R² Score:\", r2_score(y_test, y_pred))\n",
    "print(\"Mean Absolute Error (MAE):\", mean_absolute_error(y_test, y_pred))\n",
    "print(\"Root Mean Squared Error (RMSE):\", np.sqrt(mean_squared_error(y_test, y_pred)))"
   ]
  },
  {
   "cell_type": "code",
   "execution_count": null,
   "id": "20962a2a-bea8-46d5-be62-ec97bbc7b54c",
   "metadata": {},
   "outputs": [],
   "source": [
    "# تنظیم ویژگی‌های تاریخ\n",
    "future_dates = pd.date_range(start=\"2025-03-01\", periods=6, freq=\"ME\")\n",
    "future_df = pd.DataFrame({\"Date\": future_dates})\n",
    "future_df[\"month\"] = future_df[\"Date\"].dt.month\n",
    "future_df[\"week\"] = future_df[\"Date\"].dt.isocalendar().week\n",
    "future_df[\"year\"] = future_df[\"Date\"].dt.year\n",
    "\n",
    "# اضافه کردن سایر ویژگی‌ها (با مقادیر میانگین از X_train)\n",
    "for col in X_train.columns:  # به جای X.columns از X_train استفاده می‌کنیم\n",
    "    if col not in future_df.columns:\n",
    "        future_df[col] = X_train[col].mean()\n",
    "\n",
    "# اطمینان از ترتیب صحیح ویژگی‌ها\n",
    "future_X = future_df[X_train.columns]  # تضمین اینکه ترتیب و نام‌ها دقیقاً مثل X_train باشد\n",
    "\n",
    "# پیش‌بینی قیمت‌های آینده\n",
    "future_df[\"PredictedPrice\"] = model.predict(future_X)\n",
    "\n",
    "# نمایش خروجی\n",
    "print(future_df[[\"Date\", \"PredictedPrice\"]])"
   ]
  },
  {
   "cell_type": "code",
   "execution_count": null,
   "id": "089e1ada-9ea4-49cc-8f4f-bd0cf729c785",
   "metadata": {},
   "outputs": [],
   "source": []
  }
 ],
 "metadata": {
  "kernelspec": {
   "display_name": "venv",
   "language": "python",
   "name": "python3"
  },
  "language_info": {
   "codemirror_mode": {
    "name": "ipython",
    "version": 3
   },
   "file_extension": ".py",
   "mimetype": "text/x-python",
   "name": "python",
   "nbconvert_exporter": "python",
   "pygments_lexer": "ipython3",
   "version": "3.12.9"
  }
 },
 "nbformat": 4,
 "nbformat_minor": 5
}
