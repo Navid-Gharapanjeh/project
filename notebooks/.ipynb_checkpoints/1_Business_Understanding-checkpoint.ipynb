{
 "cells": [
  {
   "cell_type": "markdown",
   "metadata": {},
   "source": [
    "# Avocado Price Prediction: Business Understanding\n",
    "\n",
    "## CRISP-DM Phase 1: Business Understanding\n",
    "\n",
    "### Table of Contents\n",
    "1. [Project Overview](#1)\n",
    "2. [Business Objectives](#2)\n",
    "3. [Business Success Criteria](#3)\n",
    "4. [Situation Assessment](#4)\n",
    "5. [Project Plan](#5)\n",
    "6. [References](#6)"
   ]
  },
  {
   "cell_type": "markdown",
   "metadata": {},
   "source": [
    "<a id='1'></a>\n",
    "## 1. Project Overview\n",
    "\n",
    "This project aims to develop a machine learning model to predict Hass avocado prices in various regions of the United States. The prediction model will utilize historical data including sales volumes, types of avocados, and regional information to forecast future prices.\n",
    "\n",
    "### Background\n",
    "Avocados have become an increasingly important commodity in the US market, with consumption growing significantly over the past decade. Accurate price prediction can benefit various stakeholders in the supply chain:\n",
    "- Retailers can optimize inventory management and pricing strategies\n",
    "- Distributors can better plan their operations\n",
    "- Farmers can make informed decisions about harvesting and market timing\n",
    "- Consumers can benefit from more stable pricing through better market efficiency"
   ]
  },
  {
   "cell_type": "markdown",
   "metadata": {},
   "source": [
    "<a id='2'></a>\n",
    "## 2. Business Objectives\n",
    "\n",
    "### Primary Objectives:\n",
    "1. Develop a reliable price prediction model for Hass avocados\n",
    "2. Identify key factors influencing avocado prices\n",
    "3. Provide actionable insights for stakeholders\n",
    "\n",
    "### Research Questions:\n",
    "1. How accurately can we predict avocado prices using historical data?\n",
    "2. What features have the strongest influence on avocado prices?\n",
    "3. How do regional differences affect pricing patterns?\n",
    "4. What is the impact of organic vs. conventional classification on prices?\n",
    "5. How do seasonal patterns affect avocado prices?"
   ]
  },
  {
   "cell_type": "markdown",
   "metadata": {},
   "source": [
    "<a id='3'></a>\n",
    "## 3. Business Success Criteria\n",
    "\n",
    "The success of this project will be evaluated based on the following criteria:\n",
    "\n",
    "1. **Technical Criteria:**\n",
    "   - Achieve a Mean Absolute Percentage Error (MAPE) of less than 15%\n",
    "   - Achieve an R-squared value of at least 0.7\n",
    "   - Model should be interpretable and provide insights about feature importance\n",
    "\n",
    "2. **Business Criteria:**\n",
    "   - Identify key price drivers that stakeholders can monitor\n",
    "   - Provide actionable recommendations based on model insights\n",
    "   - Create a reproducible methodology for future price predictions"
   ]
  },
  {
   "cell_type": "markdown",
   "metadata": {},
   "source": [
    "<a id='4'></a>\n",
    "## 4. Situation Assessment\n",
    "\n",
    "### Resources Available:\n",
    "- Weekly retail scan data for National retail volume and price\n",
    "- Data from multiple retail channels (grocery, mass, club, drug, dollar, military)\n",
    "- Regional market information\n",
    "- Product-specific data (PLU codes)\n",
    "\n",
    "### Constraints and Assumptions:\n",
    "1. **Data Constraints:**\n",
    "   - Limited to Hass avocados only\n",
    "   - Weekly granularity of data\n",
    "   - Historical data might not capture recent market changes\n",
    "\n",
    "2. **Technical Constraints:**\n",
    "   - No deep learning techniques allowed\n",
    "   - Focus on interpretable machine learning models\n",
    "\n",
    "3. **Assumptions:**\n",
    "   - Past price patterns are indicative of future trends\n",
    "   - The relationship between features and prices is relatively stable\n",
    "   - The data collection methodology remained consistent"
   ]
  },
  {
   "cell_type": "markdown",
   "metadata": {},
   "source": [
    "<a id='5'></a>\n",
    "## 5. Project Plan\n",
    "\n",
    "### Phase 1: Business Understanding (Current Phase)\n",
    "- Define objectives and success criteria\n",
    "- Assess situation and constraints\n",
    "- Develop project plan\n",
    "\n",
    "### Phase 2: Data Understanding\n",
    "- Collect and describe data\n",
    "- Explore data quality\n",
    "- Perform initial data analysis\n",
    "- Verify data quality\n",
    "\n",
    "### Phase 3: Data Preparation\n",
    "- Select and clean data\n",
    "- Feature engineering\n",
    "- Format data for modeling\n",
    "\n",
    "### Phase 4: Modeling\n",
    "- Select modeling techniques (considering):\n",
    "  * Linear Regression\n",
    "  * Random Forest\n",
    "  * XGBoost\n",
    "  * LightGBM\n",
    "  * Support Vector Regression\n",
    "- Generate test design\n",
    "- Build and assess models\n",
    "\n",
    "### Phase 5: Evaluation\n",
    "- Evaluate results\n",
    "- Review process\n",
    "- Determine next steps\n",
    "\n",
    "### Timeline:\n",
    "- Data Understanding: 1 week\n",
    "- Data Preparation: 1 week\n",
    "- Modeling: 2 weeks\n",
    "- Evaluation: 1 week"
   ]
  },
  {
   "cell_type": "markdown",
   "metadata": {},
   "source": [
    "<a id='6'></a>\n",
    "## 6. References\n",
    "\n",
    "[1] Chapman, P., Clinton, J., Kerber, R., Khabaza, T., Reinartz, T., Shearer, C., & Wirth, R. (2000). \"CRISP-DM 1.0: Step-by-step data mining guide.\" SPSS inc, 9, 13.\n",
    "\n",
    "[2] Shahbandeh, M. (2021). \"Avocado Industry - Statistics & Facts.\" Statista.\n",
    "\n",
    "[3] USDA Economic Research Service. (2021). \"Fruit and Tree Nut Yearbook Tables.\"\n",
    "\n",
    "[4] Hass Avocado Board. (2021). \"Market Data and Research Reports.\"\n",
    "\n",
    "[5] Kuhn, M., & Johnson, K. (2013). \"Applied Predictive Modeling.\" New York: Springer.\n",
    "\n",
    "[6] James, G., Witten, D., Hastie, T., & Tibshirani, R. (2013). \"An Introduction to Statistical Learning.\" New York: Springer."
   ]
  }
 ],
 "metadata": {
  "kernelspec": {
   "display_name": "Python 3 (ipykernel)",
   "language": "python",
   "name": "python3"
  },
  "language_info": {
   "codemirror_mode": {
    "name": "ipython",
    "version": 3
   },
   "file_extension": ".py",
   "mimetype": "text/x-python",
   "name": "python",
   "nbconvert_exporter": "python",
   "pygments_lexer": "ipython3",
   "version": "3.12.9"
  }
 },
 "nbformat": 4,
 "nbformat_minor": 4
}
